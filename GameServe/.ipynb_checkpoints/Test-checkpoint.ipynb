{
 "metadata": {
  "name": "",
  "signature": "sha256:de711b7ed040731acb94ed121bcecc992229b497309076afe52948381aaf2215"
 },
 "nbformat": 3,
 "nbformat_minor": 0,
 "worksheets": [
  {
   "cells": [
    {
     "cell_type": "markdown",
     "metadata": {},
     "source": [
      "## Adding a new oAuth client"
     ]
    },
    {
     "cell_type": "code",
     "collapsed": false,
     "input": [
      "from provider.oauth2.models import Client\n",
      "from accounts.models import User\n",
      "u = User.objects.get(email='BetsyPMartinez@gustr.com')\n",
      "c = Client(user=u, name=\"mysite client\", client_type=1, url=\"http://ianalexandr.com\")\n",
      "c.save()"
     ],
     "language": "python",
     "metadata": {},
     "outputs": [],
     "prompt_number": 35
    },
    {
     "cell_type": "code",
     "collapsed": false,
     "input": [
      "u.username"
     ],
     "language": "python",
     "metadata": {},
     "outputs": [
      {
       "metadata": {},
       "output_type": "pyout",
       "prompt_number": 36,
       "text": [
        "u'Conifice'"
       ]
      }
     ],
     "prompt_number": 36
    },
    {
     "cell_type": "code",
     "collapsed": false,
     "input": [
      "c.client_id"
     ],
     "language": "python",
     "metadata": {},
     "outputs": [
      {
       "metadata": {},
       "output_type": "pyout",
       "prompt_number": 42,
       "text": [
        "'a679b5f38306e22d1dfe'"
       ]
      }
     ],
     "prompt_number": 42
    },
    {
     "cell_type": "code",
     "collapsed": false,
     "input": [
      "c.client_secret"
     ],
     "language": "python",
     "metadata": {},
     "outputs": [
      {
       "metadata": {},
       "output_type": "pyout",
       "prompt_number": 44,
       "text": [
        "'f8a631d5d1a9bff62409ef3c0778d16669fb4947'"
       ]
      }
     ],
     "prompt_number": 44
    },
    {
     "cell_type": "markdown",
     "metadata": {},
     "source": [
      "## Verify Access Token stored in DB"
     ]
    },
    {
     "cell_type": "code",
     "collapsed": false,
     "input": [
      "from provider.oauth2.models import AccessToken\n",
      "AccessToken.objects.all()"
     ],
     "language": "python",
     "metadata": {},
     "outputs": [
      {
       "metadata": {},
       "output_type": "pyout",
       "prompt_number": 60,
       "text": [
        "[<AccessToken: d35675a31242298b7118b7fea3f4e1d05afabecb>]"
       ]
      }
     ],
     "prompt_number": 60
    },
    {
     "cell_type": "markdown",
     "metadata": {},
     "source": [
      "## Facebook Profile Model"
     ]
    },
    {
     "cell_type": "code",
     "collapsed": false,
     "input": [
      "from django_facebook.models import FacebookProfileModel\n",
      "u=FacebookProfileModel()\n"
     ],
     "language": "python",
     "metadata": {},
     "outputs": [],
     "prompt_number": 105
    },
    {
     "cell_type": "code",
     "collapsed": false,
     "input": [
      "from accounts.models import User\n",
      "u = User(email='ballsack3@gmail.com',username='ballsack3',password='ballsack')\n",
      "u.save()"
     ],
     "language": "python",
     "metadata": {},
     "outputs": [],
     "prompt_number": 11
    },
    {
     "cell_type": "code",
     "collapsed": false,
     "input": [],
     "language": "python",
     "metadata": {},
     "outputs": []
    }
   ],
   "metadata": {}
  }
 ]
}