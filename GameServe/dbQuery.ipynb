{
 "metadata": {
  "name": "",
  "signature": "sha256:5439b3b85442840b5e7fa67a1b9d252d85d6c131e285a2aabec43b0d0e9c01d3"
 },
 "nbformat": 3,
 "nbformat_minor": 0,
 "worksheets": [
  {
   "cells": [
    {
     "cell_type": "code",
     "collapsed": false,
     "input": [
      "from events.api import *"
     ],
     "language": "python",
     "metadata": {},
     "outputs": [],
     "prompt_number": 14
    },
    {
     "cell_type": "code",
     "collapsed": false,
     "input": [
      "ModelResource.build_filters??"
     ],
     "language": "python",
     "metadata": {},
     "outputs": [],
     "prompt_number": 32
    }
   ],
   "metadata": {}
  }
 ]
}